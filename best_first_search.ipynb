{
 "cells": [
  {
   "attachments": {},
   "cell_type": "markdown",
   "metadata": {},
   "source": [
    "# BEST FIRST SEARCH"
   ]
  },
  {
   "attachments": {},
   "cell_type": "markdown",
   "metadata": {},
   "source": [
    "## Question"
   ]
  },
  {
   "attachments": {},
   "cell_type": "markdown",
   "metadata": {},
   "source": [
    "<center>\n",
    "    <img src='pic/best_first_search/1.jpg'/>\n",
    "</center>"
   ]
  },
  {
   "attachments": {},
   "cell_type": "markdown",
   "metadata": {},
   "source": [
    "## Script"
   ]
  },
  {
   "attachments": {},
   "cell_type": "markdown",
   "metadata": {},
   "source": [
    "### Using"
   ]
  },
  {
   "cell_type": "code",
   "execution_count": 99,
   "metadata": {},
   "outputs": [],
   "source": [
    "from collections import defaultdict\n",
    "from queue import PriorityQueue"
   ]
  },
  {
   "attachments": {},
   "cell_type": "markdown",
   "metadata": {},
   "source": [
    "### Contract Fields"
   ]
  },
  {
   "cell_type": "code",
   "execution_count": 100,
   "metadata": {},
   "outputs": [],
   "source": [
    "data = defaultdict(list)\n",
    "\n",
    "data['S'] = ['A', 'B', 'C', 1]\n",
    "data['A'] = ['B', 'D', 8]\n",
    "data['B'] = [6]\n",
    "data['C'] = ['D', 'E', 'F', 2]\n",
    "data['D'] = ['H', 'I', 'F', 7]\n",
    "data['E'] = ['G', 3]\n",
    "data['F'] = ['G', 2]\n",
    "data['G'] = [0]\n",
    "data['H'] = ['I', 'J', 9]\n",
    "data['I'] = ['J', 'K', 'G', 11]\n",
    "data['J'] = ['K', 13]\n",
    "data['K'] = ['G', 4]"
   ]
  },
  {
   "cell_type": "code",
   "execution_count": 101,
   "metadata": {},
   "outputs": [],
   "source": [
    "class Node:\n",
    "    # Initialization\n",
    "    def __init__(self, name, p=None, h=0):\n",
    "        self.name = name\n",
    "        self.p = p\n",
    "        self.h = h\n",
    "\n",
    "\n",
    "    # Less than\n",
    "    def __lt__(self, other):\n",
    "        if other == None:\n",
    "            return False\n",
    "        return self.h < other.h\n",
    "\n",
    "\n",
    "    # Equal\n",
    "    def __eq__(self, other):\n",
    "        if other == None:\n",
    "            return False\n",
    "        return self.name == other.name\n",
    "\n",
    "\n",
    "    # Display\n",
    "    def display(self):\n",
    "        print(f'{self.name}-{self.h}')"
   ]
  },
  {
   "attachments": {},
   "cell_type": "markdown",
   "metadata": {},
   "source": [
    "### Contract Methods"
   ]
  },
  {
   "cell_type": "code",
   "execution_count": 102,
   "metadata": {},
   "outputs": [],
   "source": [
    "# Check in priority\n",
    "def checkin_priority(temp, c):\n",
    "    if temp == None:\n",
    "        return False\n",
    "    return (temp in c.queue)"
   ]
  },
  {
   "cell_type": "code",
   "execution_count": 103,
   "metadata": {},
   "outputs": [],
   "source": [
    "# Get path\n",
    "def get_path(O, distance):\n",
    "    O.display()\n",
    "    distance += O.h\n",
    "\n",
    "    if O.p != None:\n",
    "        get_path(O.p, distance)\n",
    "    else:\n",
    "        print(f'Distance: {distance}')\n",
    "\n",
    "        return"
   ]
  },
  {
   "cell_type": "code",
   "execution_count": 104,
   "metadata": {},
   "outputs": [],
   "source": [
    "# Best first search\n",
    "def best_first_search(S=Node('S'), G=Node('G')):\n",
    "    count = 0\n",
    "\n",
    "    Open = PriorityQueue()\n",
    "    Close = PriorityQueue()\n",
    "\n",
    "    S.h = data[S.name][-1]\n",
    "    Open.put(S)\n",
    "\n",
    "    while True:\n",
    "        count += 1\n",
    "\n",
    "        # check if Open is empty\n",
    "        if Open.empty():\n",
    "            print('Search failed!')\n",
    "\n",
    "            return\n",
    "\n",
    "        O = Open.get()\n",
    "        Close.put(O)\n",
    "\n",
    "        print(f'Scan {count}: {O.name}-{O.h}')\n",
    "\n",
    "        # check if O is destination point\n",
    "        if O.__eq__(G):\n",
    "            print('Search success!')\n",
    "\n",
    "            get_path(O, 0)\n",
    "\n",
    "            return\n",
    "\n",
    "        i = 0\n",
    "\n",
    "        # find all subpoints of O that are not in Open and Close\n",
    "        while i < len(data[O.name]) - 1:\n",
    "            name = data[O.name][i]\n",
    "            temp = Node(name=name, h=data[name][-1])\n",
    "            temp.p = O\n",
    "\n",
    "            if not (checkin_priority(temp, Open) and checkin_priority(temp, Close)):\n",
    "                Open.put(temp)\n",
    "\n",
    "            i += 1"
   ]
  },
  {
   "cell_type": "code",
   "execution_count": 105,
   "metadata": {},
   "outputs": [
    {
     "name": "stdout",
     "output_type": "stream",
     "text": [
      "Scan 1: S-1\n",
      "Scan 2: C-2\n",
      "Scan 3: F-2\n",
      "Scan 4: G-0\n",
      "Search success!\n",
      "G-0\n",
      "F-2\n",
      "C-2\n",
      "S-1\n",
      "Distance: 5\n"
     ]
    }
   ],
   "source": [
    "# Run\n",
    "best_first_search(Node('S'), Node('G'))"
   ]
  },
  {
   "cell_type": "markdown",
   "metadata": {},
   "source": [
    "<center>\n",
    "    <img src='pic/best_first_search/2.jpg'/>\n",
    "</center>"
   ]
  }
 ],
 "metadata": {
  "kernelspec": {
   "display_name": "base",
   "language": "python",
   "name": "python3"
  },
  "language_info": {
   "codemirror_mode": {
    "name": "ipython",
    "version": 3
   },
   "file_extension": ".py",
   "mimetype": "text/x-python",
   "name": "python",
   "nbconvert_exporter": "python",
   "pygments_lexer": "ipython3",
   "version": "3.11.7"
  },
  "orig_nbformat": 4
 },
 "nbformat": 4,
 "nbformat_minor": 2
}
