{
 "cells": [
  {
   "attachments": {},
   "cell_type": "markdown",
   "metadata": {},
   "source": [
    "# DEPTH-FIRST SEARCH"
   ]
  },
  {
   "attachments": {},
   "cell_type": "markdown",
   "metadata": {},
   "source": [
    "## Question"
   ]
  },
  {
   "attachments": {},
   "cell_type": "markdown",
   "metadata": {},
   "source": [
    "<table style=\"width: 100%;\">\n",
    "  <tr>\n",
    "    <td style=\"text-align: center; width: 55%;\">\n",
    "      <img src=\"pic/depth_first_search/0.jpg\" style=\"max-width: 100%;\" />\n",
    "    </td>\n",
    "    <td style=\"text-align: center; width: 45%;\">\n",
    "      <img src=\"pic/depth_first_search/1.jpg\" style=\"max-width: 100%;\" />\n",
    "    </td>\n",
    "  </tr>\n",
    "</table>"
   ]
  },
  {
   "attachments": {},
   "cell_type": "markdown",
   "metadata": {},
   "source": [
    "## Script"
   ]
  },
  {
   "attachments": {},
   "cell_type": "markdown",
   "metadata": {},
   "source": [
    "### Using"
   ]
  },
  {
   "cell_type": "code",
   "execution_count": 22,
   "metadata": {},
   "outputs": [],
   "source": [
    "from collections import defaultdict"
   ]
  },
  {
   "attachments": {},
   "cell_type": "markdown",
   "metadata": {},
   "source": [
    "### Contract Fields"
   ]
  },
  {
   "cell_type": "code",
   "execution_count": 23,
   "metadata": {},
   "outputs": [],
   "source": [
    "class Node:\n",
    "    # Initialization\n",
    "    def __init__(self, name, p=None):\n",
    "        self.name = name\n",
    "        self.p = p\n",
    "\n",
    "\n",
    "    # Equal\n",
    "    def __eq__(self, other):\n",
    "        if (other == None):\n",
    "            return False\n",
    "        return self.name == other.name\n",
    "\n",
    "\n",
    "    # Display\n",
    "    def display(self):\n",
    "        print(self.name)"
   ]
  },
  {
   "cell_type": "code",
   "execution_count": 24,
   "metadata": {},
   "outputs": [],
   "source": [
    "data = defaultdict(list)\n",
    "\n",
    "data['Easthampton'] = ['Westhampton', 'Northampton', 'South Hadley']\n",
    "data['Westhampton'] = ['Chesterfield', 'Williamsburg', 'Northampton']\n",
    "data['Northampton'] = ['Florence', 'Hadley', 'South Hadley']\n",
    "data['South Hadley'] = ['Hadley', 'Ambherst']\n",
    "data['Chesterfield'] = ['Goshen', 'Williamsburg']\n",
    "data['Williamsburg'] = ['Goshen', 'Whately', 'Florence']\n",
    "data['Florence'] = ['Hatfield']\n",
    "data['Hadley'] = ['Hatfield', 'Ambherst']\n",
    "data['Goshen'] = ['Whately']\n",
    "data['Hatfield'] = ['Whately', 'Ambherst']\n",
    "data['Ambherst'] = ['Whately']"
   ]
  },
  {
   "attachments": {},
   "cell_type": "markdown",
   "metadata": {},
   "source": [
    "### Contract Methods"
   ]
  },
  {
   "cell_type": "code",
   "execution_count": 25,
   "metadata": {},
   "outputs": [],
   "source": [
    "# Check in array\n",
    "def checkin_array(temp, Open):\n",
    "    for x in Open:\n",
    "        if x.__eq__(temp):\n",
    "            return True\n",
    "    return False"
   ]
  },
  {
   "cell_type": "code",
   "execution_count": 26,
   "metadata": {},
   "outputs": [],
   "source": [
    "# Get path\n",
    "def get_path(O):\n",
    "    O.display()\n",
    "\n",
    "    if O.p != None:\n",
    "        get_path(O.p)\n",
    "    else:\n",
    "        return"
   ]
  },
  {
   "cell_type": "code",
   "execution_count": 27,
   "metadata": {},
   "outputs": [],
   "source": [
    "# Depth First Search\n",
    "def depth_first_search(S=Node('S'), G=Node('G')):\n",
    "    count = 0\n",
    "\n",
    "    Open = []\n",
    "    Close = []\n",
    "\n",
    "    Open.append(S)\n",
    "\n",
    "    while True:\n",
    "        count += 1\n",
    "\n",
    "        # check if Open is empty\n",
    "        if len(Open) == 0:\n",
    "            print('Search failed!')\n",
    "\n",
    "            return\n",
    "\n",
    "        O = Open.pop(0)\n",
    "        Close.append(O)\n",
    "\n",
    "        print(f'Scan {count}: {O.name}')\n",
    "\n",
    "        # check if O is destination point\n",
    "        if O.__eq__(G):\n",
    "            print('Search success!')\n",
    "\n",
    "            get_path(O)\n",
    "\n",
    "            return\n",
    "\n",
    "        i = 0\n",
    "\n",
    "        # find all subpoints of O that are not in Open and Close\n",
    "        for x in data[O.name]:\n",
    "            temp = Node(x)\n",
    "            temp.p = O\n",
    "\n",
    "            if not (checkin_array(temp, Open) and checkin_array(temp, Close)):\n",
    "                Open.insert(i, temp)\n",
    "                i += 1"
   ]
  },
  {
   "cell_type": "code",
   "execution_count": 28,
   "metadata": {},
   "outputs": [
    {
     "name": "stdout",
     "output_type": "stream",
     "text": [
      "Scan 1: Easthampton\n",
      "Scan 2: Westhampton\n",
      "Scan 3: Chesterfield\n",
      "Scan 4: Goshen\n",
      "Scan 5: Whately\n",
      "Search success!\n",
      "Whately\n",
      "Goshen\n",
      "Chesterfield\n",
      "Westhampton\n",
      "Easthampton\n"
     ]
    }
   ],
   "source": [
    "# Run\n",
    "depth_first_search(Node('Easthampton'), Node('Whately'))"
   ]
  },
  {
   "cell_type": "markdown",
   "metadata": {},
   "source": [
    "<center>\n",
    "    <img src='pic/depth_first_search/2.jpg'/>\n",
    "</center>"
   ]
  }
 ],
 "metadata": {
  "kernelspec": {
   "display_name": "base",
   "language": "python",
   "name": "python3"
  },
  "language_info": {
   "codemirror_mode": {
    "name": "ipython",
    "version": 3
   },
   "file_extension": ".py",
   "mimetype": "text/x-python",
   "name": "python",
   "nbconvert_exporter": "python",
   "pygments_lexer": "ipython3",
   "version": "3.11.7"
  },
  "orig_nbformat": 4
 },
 "nbformat": 4,
 "nbformat_minor": 2
}
