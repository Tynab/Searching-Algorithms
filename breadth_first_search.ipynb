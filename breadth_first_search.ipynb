{
 "cells": [
  {
   "attachments": {},
   "cell_type": "markdown",
   "metadata": {},
   "source": [
    "# BREADTH-FIRST SEARCH"
   ]
  },
  {
   "attachments": {},
   "cell_type": "markdown",
   "metadata": {},
   "source": [
    "## Question"
   ]
  },
  {
   "attachments": {},
   "cell_type": "markdown",
   "metadata": {},
   "source": [
    "<table style=\"width: 100%;\">\n",
    "  <tr>\n",
    "    <td style=\"text-align: center; width: 55%;\">\n",
    "      <img src=\"pic/breadth_first_search/0.jpg\" style=\"max-width: 100%;\" />\n",
    "    </td>\n",
    "    <td style=\"text-align: center; width: 45%;\">\n",
    "      <img src=\"pic/breadth_first_search/1.jpg\" style=\"max-width: 100%;\" />\n",
    "    </td>\n",
    "  </tr>\n",
    "</table>"
   ]
  },
  {
   "attachments": {},
   "cell_type": "markdown",
   "metadata": {},
   "source": [
    "## Script"
   ]
  },
  {
   "attachments": {},
   "cell_type": "markdown",
   "metadata": {},
   "source": [
    "### Using"
   ]
  },
  {
   "cell_type": "code",
   "execution_count": 57,
   "metadata": {},
   "outputs": [],
   "source": [
    "from collections import defaultdict"
   ]
  },
  {
   "attachments": {},
   "cell_type": "markdown",
   "metadata": {},
   "source": [
    "### Contract Fields"
   ]
  },
  {
   "cell_type": "code",
   "execution_count": 58,
   "metadata": {},
   "outputs": [],
   "source": [
    "class Node:\n",
    "    # Initialization\n",
    "    def __init__(self, name, p=None):\n",
    "        self.name = name\n",
    "        self.p = p\n",
    "\n",
    "\n",
    "    # Equal\n",
    "    def __eq__(self, other):\n",
    "        if (other == None):\n",
    "            return False\n",
    "        return self.name == other.name\n",
    "\n",
    "\n",
    "    # Display\n",
    "    def display(self):\n",
    "        print(self.name)"
   ]
  },
  {
   "cell_type": "code",
   "execution_count": 59,
   "metadata": {},
   "outputs": [],
   "source": [
    "data = defaultdict(list)\n",
    "\n",
    "# Layer 1\n",
    "data['Easthampton'] = ['South Hadley', 'Northampton', 'Westhampton']\n",
    "# Layer 2\n",
    "data['South Hadley'] = ['Ambherst', 'Hadley', 'Northampton']\n",
    "data['Northampton'] = ['Hadley', 'Florence', 'Westhampton']\n",
    "data['Westhampton'] = ['Williamsburg', 'Chesterfield']\n",
    "# Layer 3\n",
    "data['Ambherst'] = ['Hadley', 'Hatfield', 'Whately']\n",
    "data['Hadley'] = ['Hatfield']\n",
    "data['Florence'] = ['Hatfield', 'Williamsburg']\n",
    "data['Williamsburg'] = ['Whately', 'Goshen']\n",
    "data['Chesterfield'] = ['Williamsburg', 'Goshen']\n",
    "# Layer 4\n",
    "data['Hatfield'] = ['Whately']\n",
    "data['Goshen'] = ['Whately']"
   ]
  },
  {
   "attachments": {},
   "cell_type": "markdown",
   "metadata": {},
   "source": [
    "### Contract Methods"
   ]
  },
  {
   "cell_type": "code",
   "execution_count": 60,
   "metadata": {},
   "outputs": [],
   "source": [
    "# Check in array\n",
    "def checkin_array(temp, Open):\n",
    "    for x in Open:\n",
    "        if x.__eq__(temp):\n",
    "            return True\n",
    "    return False"
   ]
  },
  {
   "cell_type": "code",
   "execution_count": 61,
   "metadata": {},
   "outputs": [],
   "source": [
    "# Get path\n",
    "def get_path(O):\n",
    "    O.display()\n",
    "\n",
    "    if O.p != None:\n",
    "        get_path(O.p)\n",
    "    else:\n",
    "        return"
   ]
  },
  {
   "cell_type": "code",
   "execution_count": 62,
   "metadata": {},
   "outputs": [],
   "source": [
    "# Breadth First Search\n",
    "def breadth_first_search(S=Node('S'), G=Node('G')):\n",
    "    count = 0\n",
    "\n",
    "    Open = []\n",
    "    Close = []\n",
    "\n",
    "    Open.append(S)\n",
    "\n",
    "    while True:\n",
    "        count += 1\n",
    "\n",
    "        # check if Open is empty\n",
    "        if len(Open) == 0:\n",
    "            print('Search failed!')\n",
    "\n",
    "            return\n",
    "        \n",
    "        O = Open.pop(0)\n",
    "        Close.append(O)\n",
    "\n",
    "        print(f'Scan {count}: {O.name}')\n",
    "\n",
    "        # check if O is destination point\n",
    "        if O.__eq__(G):\n",
    "            print('Search success!')\n",
    "\n",
    "            get_path(O)\n",
    "\n",
    "            return\n",
    "        \n",
    "        # find all subpoints of O that are not in Open and Close\n",
    "        for x in data[O.name]:\n",
    "            temp = Node(x)\n",
    "            temp.p = O\n",
    "            \n",
    "            if not (checkin_array(temp, Open) and checkin_array(temp, Close)):\n",
    "                Open.append(temp)"
   ]
  },
  {
   "cell_type": "code",
   "execution_count": 63,
   "metadata": {},
   "outputs": [
    {
     "name": "stdout",
     "output_type": "stream",
     "text": [
      "Scan 1: Easthampton\n",
      "Scan 2: South Hadley\n",
      "Scan 3: Northampton\n",
      "Scan 4: Westhampton\n",
      "Scan 5: Ambherst\n",
      "Scan 6: Hadley\n",
      "Scan 7: Northampton\n",
      "Scan 8: Hadley\n",
      "Scan 9: Florence\n",
      "Scan 10: Westhampton\n",
      "Scan 11: Williamsburg\n",
      "Scan 12: Chesterfield\n",
      "Scan 13: Hadley\n",
      "Scan 14: Hatfield\n",
      "Scan 15: Whately\n",
      "Search success!\n",
      "Whately\n",
      "Ambherst\n",
      "South Hadley\n",
      "Easthampton\n"
     ]
    }
   ],
   "source": [
    "# Run\n",
    "breadth_first_search(Node('Easthampton'), Node('Whately'))"
   ]
  },
  {
   "cell_type": "markdown",
   "metadata": {},
   "source": [
    "<center>\n",
    "    <img src='pic/breadth_first_search/2.jpg'/>\n",
    "</center>"
   ]
  }
 ],
 "metadata": {
  "kernelspec": {
   "display_name": "base",
   "language": "python",
   "name": "python3"
  },
  "language_info": {
   "codemirror_mode": {
    "name": "ipython",
    "version": 3
   },
   "file_extension": ".py",
   "mimetype": "text/x-python",
   "name": "python",
   "nbconvert_exporter": "python",
   "pygments_lexer": "ipython3",
   "version": "3.11.7"
  },
  "orig_nbformat": 4
 },
 "nbformat": 4,
 "nbformat_minor": 2
}
