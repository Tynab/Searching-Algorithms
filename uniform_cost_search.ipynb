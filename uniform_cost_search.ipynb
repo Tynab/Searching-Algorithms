{
 "cells": [
  {
   "attachments": {},
   "cell_type": "markdown",
   "metadata": {},
   "source": [
    "# UNIFORM COST SEARCH"
   ]
  },
  {
   "attachments": {},
   "cell_type": "markdown",
   "metadata": {},
   "source": [
    "## Question"
   ]
  },
  {
   "attachments": {},
   "cell_type": "markdown",
   "metadata": {},
   "source": [
    "<table style=\"width: 100%;\">\n",
    "  <tr>\n",
    "    <td style=\"text-align: center; width: 55%;\">\n",
    "      <img src=\"pic/uniform_cost_search/0.jpg\" style=\"max-width: 100%;\" />\n",
    "    </td>\n",
    "    <td style=\"text-align: center; width: 45%;\">\n",
    "      <img src=\"pic/uniform_cost_search/1.jpg\" style=\"max-width: 100%;\" />\n",
    "    </td>\n",
    "  </tr>\n",
    "</table>"
   ]
  },
  {
   "attachments": {},
   "cell_type": "markdown",
   "metadata": {},
   "source": [
    "## Script"
   ]
  },
  {
   "attachments": {},
   "cell_type": "markdown",
   "metadata": {},
   "source": [
    "### Using"
   ]
  },
  {
   "cell_type": "code",
   "execution_count": 15,
   "metadata": {},
   "outputs": [],
   "source": [
    "from collections import defaultdict\n",
    "from queue import PriorityQueue"
   ]
  },
  {
   "attachments": {},
   "cell_type": "markdown",
   "metadata": {},
   "source": [
    "### Contract Fields"
   ]
  },
  {
   "cell_type": "code",
   "execution_count": 16,
   "metadata": {},
   "outputs": [],
   "source": [
    "data = defaultdict(list)\n",
    "\n",
    "data['Easthampton'] = ['South Hadley', 11, 'Northampton', 6, 'Westhampton', 10]\n",
    "data['South Hadley'] = ['Northampton', 11, 'Hadley', 8, 'Ambherst', 9]\n",
    "data['Northampton'] = ['Hadley', 4, 'Florence', 2, 'Westhampton', 10]\n",
    "data['Westhampton'] = ['Williamsburg', 9, 'Chesterfield', 9]\n",
    "data['Ambherst'] = ['Hadley', 4, 'Hatfield', 11, 'Whately', 14]\n",
    "data['Hadley'] = ['Hatfield', 7]\n",
    "data['Florence'] = ['Hatfield', 5, 'Williamsburg', 6]\n",
    "data['Williamsburg'] = ['Whately', 9, 'Goshen', 5]\n",
    "data['Chesterfield'] = ['Williamsburg', 6, 'Goshen', 5]\n",
    "data['Hatfield'] = ['Whately', 6]\n",
    "data['Goshen'] = ['Whately', 14]"
   ]
  },
  {
   "cell_type": "code",
   "execution_count": 17,
   "metadata": {},
   "outputs": [],
   "source": [
    "class Node:\n",
    "    # Initialization\n",
    "    def __init__(self, name, p=None, g=0):\n",
    "        self.name = name\n",
    "        self.p = p\n",
    "        self.g = g\n",
    "\n",
    "\n",
    "    # Less than\n",
    "    def __lt__(self, other):\n",
    "        if other == None:\n",
    "            return False\n",
    "        return self.g < other.g\n",
    "\n",
    "\n",
    "    # Equal\n",
    "    def __eq__(self, other):\n",
    "        if other == None:\n",
    "            return False\n",
    "        return self.name == other.name\n",
    "\n",
    "\n",
    "    # Display\n",
    "    def display(self):\n",
    "        print(f'{self.name}-{self.g}')"
   ]
  },
  {
   "attachments": {},
   "cell_type": "markdown",
   "metadata": {},
   "source": [
    "### Contract Methods"
   ]
  },
  {
   "cell_type": "code",
   "execution_count": 18,
   "metadata": {},
   "outputs": [],
   "source": [
    "# Check in priority\n",
    "def checkin_priority(temp, c):\n",
    "    if temp == None:\n",
    "        return False\n",
    "    return (temp in c.queue)"
   ]
  },
  {
   "cell_type": "code",
   "execution_count": 19,
   "metadata": {},
   "outputs": [],
   "source": [
    "# Get path\n",
    "def get_path(O, distance):\n",
    "    O.display()\n",
    "    distance += O.g\n",
    "\n",
    "    if O.p != None:\n",
    "        get_path(O.p, distance)\n",
    "    else:\n",
    "        print(f'Distance: {distance}')\n",
    "\n",
    "        return"
   ]
  },
  {
   "cell_type": "code",
   "execution_count": 20,
   "metadata": {},
   "outputs": [],
   "source": [
    "# Uniform cost search\n",
    "def uniform_cost_search(S=Node('S'), G=Node('G')):\n",
    "    count = 0\n",
    "\n",
    "    Open = PriorityQueue()\n",
    "    Close = PriorityQueue()\n",
    "\n",
    "    Open.put(S)\n",
    "\n",
    "    while True:\n",
    "        count += 1\n",
    "\n",
    "        # check if Open is empty\n",
    "        if Open.empty():\n",
    "            print('Search failed!')\n",
    "\n",
    "            return\n",
    "\n",
    "        O = Open.get()\n",
    "        Close.put(O)\n",
    "\n",
    "        print(f'Scan {count}: {O.name}-{O.g}')\n",
    "\n",
    "        # check if O is destination point\n",
    "        if O.__eq__(G):\n",
    "            print('Search success!')\n",
    "\n",
    "            get_path(O, 0)\n",
    "\n",
    "            return\n",
    "\n",
    "        i = 0\n",
    "\n",
    "        # find all subpoints of O that are not in Open and Close\n",
    "        while i < len(data[O.name]):\n",
    "            temp = Node(name=data[O.name][i], g=O.g + data[O.name][i + 1])\n",
    "            temp.p = O\n",
    "\n",
    "            if not (checkin_priority(temp, Open) and checkin_priority(temp, Close)):\n",
    "                Open.put(temp)\n",
    "\n",
    "            i += 2"
   ]
  },
  {
   "cell_type": "code",
   "execution_count": 21,
   "metadata": {},
   "outputs": [
    {
     "name": "stdout",
     "output_type": "stream",
     "text": [
      "Scan 1: Easthampton-0\n",
      "Scan 2: Northampton-6\n",
      "Scan 3: Florence-8\n",
      "Scan 4: Hadley-10\n",
      "Scan 5: Westhampton-10\n",
      "Scan 6: South Hadley-11\n",
      "Scan 7: Hatfield-13\n",
      "Scan 8: Williamsburg-14\n",
      "Scan 9: Westhampton-16\n",
      "Scan 10: Hatfield-17\n",
      "Scan 11: Williamsburg-19\n",
      "Scan 12: Whately-19\n",
      "Search success!\n",
      "Whately-19\n",
      "Hatfield-13\n",
      "Florence-8\n",
      "Northampton-6\n",
      "Easthampton-0\n",
      "Distance: 46\n"
     ]
    }
   ],
   "source": [
    "# Run\n",
    "uniform_cost_search(Node('Easthampton'), Node('Whately'))"
   ]
  },
  {
   "cell_type": "markdown",
   "metadata": {},
   "source": [
    "<center>\n",
    "    <img src='pic/uniform_cost_search/2.jpg'/>\n",
    "</center>"
   ]
  }
 ],
 "metadata": {
  "kernelspec": {
   "display_name": "base",
   "language": "python",
   "name": "python3"
  },
  "language_info": {
   "codemirror_mode": {
    "name": "ipython",
    "version": 3
   },
   "file_extension": ".py",
   "mimetype": "text/x-python",
   "name": "python",
   "nbconvert_exporter": "python",
   "pygments_lexer": "ipython3",
   "version": "3.11.7"
  },
  "orig_nbformat": 4
 },
 "nbformat": 4,
 "nbformat_minor": 2
}
