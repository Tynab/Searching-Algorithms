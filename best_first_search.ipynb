{
 "cells": [
  {
   "attachments": {},
   "cell_type": "markdown",
   "metadata": {},
   "source": [
    "# BEST FIRST SEARCH"
   ]
  },
  {
   "attachments": {},
   "cell_type": "markdown",
   "metadata": {},
   "source": [
    "## Question"
   ]
  },
  {
   "attachments": {},
   "cell_type": "markdown",
   "metadata": {},
   "source": [
    "<table style=\"width: 100%;\">\n",
    "  <tr>\n",
    "    <td style=\"text-align: center; width: 55%;\">\n",
    "      <img src=\"pic/best_first_search/0.jpg\" style=\"max-width: 100%;\" />\n",
    "    </td>\n",
    "    <td style=\"text-align: center; width: 45%;\">\n",
    "      <img src=\"pic/best_first_search/1.jpg\" style=\"max-width: 100%;\" />\n",
    "    </td>\n",
    "  </tr>\n",
    "</table>"
   ]
  },
  {
   "attachments": {},
   "cell_type": "markdown",
   "metadata": {},
   "source": [
    "## Script"
   ]
  },
  {
   "attachments": {},
   "cell_type": "markdown",
   "metadata": {},
   "source": [
    "### Using"
   ]
  },
  {
   "cell_type": "code",
   "execution_count": 8,
   "metadata": {},
   "outputs": [],
   "source": [
    "from collections import defaultdict\n",
    "from queue import PriorityQueue"
   ]
  },
  {
   "attachments": {},
   "cell_type": "markdown",
   "metadata": {},
   "source": [
    "### Contract Fields"
   ]
  },
  {
   "cell_type": "code",
   "execution_count": null,
   "metadata": {},
   "outputs": [],
   "source": [
    "data = defaultdict(list)\n",
    "\n",
    "data['A'] = ['B', 'C', 'D', 40]\n",
    "data['B'] = ['E', 32]\n",
    "data['C'] = ['E', 'F', 25]\n",
    "data['D'] = ['F', 35]\n",
    "data['E'] = ['H', 19]\n",
    "data['F'] = ['G', 17]\n",
    "data['H'] = ['G', 10]\n",
    "data['G'] = [0]"
   ]
  },
  {
   "cell_type": "code",
   "execution_count": 10,
   "metadata": {},
   "outputs": [],
   "source": [
    "class Node:\n",
    "    # Initialization\n",
    "    def __init__(self, name, p=None, h=0):\n",
    "        self.name = name\n",
    "        self.p = p\n",
    "        self.h = h\n",
    "\n",
    "    # Less than\n",
    "    def __lt__(self, other):\n",
    "        if other == None:\n",
    "            return False\n",
    "        return self.h < other.h\n",
    "\n",
    "    # Equal\n",
    "    def __eq__(self, other):\n",
    "        if other == None:\n",
    "            return False\n",
    "        return self.name == other.name\n",
    "\n",
    "    # Display\n",
    "    def display(self):\n",
    "        print(f'{self.name}-{self.h}')"
   ]
  },
  {
   "attachments": {},
   "cell_type": "markdown",
   "metadata": {},
   "source": [
    "### Contract Methods"
   ]
  },
  {
   "cell_type": "code",
   "execution_count": 11,
   "metadata": {},
   "outputs": [],
   "source": [
    "# Check in priority\n",
    "def checkin_priority(temp, c):\n",
    "    if temp == None:\n",
    "        return False\n",
    "    return (temp in c.queue)"
   ]
  },
  {
   "cell_type": "code",
   "execution_count": 12,
   "metadata": {},
   "outputs": [],
   "source": [
    "# Get path\n",
    "def get_path(O, distance):\n",
    "    O.display()\n",
    "    distance += O.h\n",
    "    if O.p != None:\n",
    "        get_path(O.p, distance)\n",
    "    else:\n",
    "        print(f'Distance: {distance}')\n",
    "        return"
   ]
  },
  {
   "cell_type": "code",
   "execution_count": 13,
   "metadata": {},
   "outputs": [],
   "source": [
    "# Best first search\n",
    "def bfs(S=Node('A'), G=Node('B')):\n",
    "    count = 0\n",
    "    Open = PriorityQueue()\n",
    "    Close = PriorityQueue()\n",
    "    S.h = data[S.name][-1]\n",
    "    Open.put(S)\n",
    "    while True:\n",
    "        count += 1\n",
    "        # check if Open is empty\n",
    "        if Open.empty():\n",
    "            print('Search failed!')\n",
    "            return\n",
    "        O = Open.get()\n",
    "        Close.put(O)\n",
    "        print(f'Scan {count}: {O.name}-{O.h}')\n",
    "        # check if O is destination point\n",
    "        if O.__eq__(G):\n",
    "            print('Search success!')\n",
    "            get_path(O, 0)\n",
    "            return\n",
    "        i = 0\n",
    "        # find all subpoints of O that are not in Open and Close\n",
    "        while i < len(data[O.name]) - 1:\n",
    "            name = data[O.name][i]\n",
    "            temp = Node(name=name, h=data[name][-1])\n",
    "            temp.p = O\n",
    "            if not (checkin_priority(temp, Open) and checkin_priority(temp, Close)):\n",
    "                Open.put(temp)\n",
    "            i += 1"
   ]
  },
  {
   "cell_type": "code",
   "execution_count": 14,
   "metadata": {},
   "outputs": [
    {
     "name": "stdout",
     "output_type": "stream",
     "text": [
      "Scan 1: A-40\n",
      "Scan 2: C-25\n",
      "Scan 3: F-17\n",
      "Scan 4: G-0\n",
      "Search success!\n",
      "G-0\n",
      "F-17\n",
      "C-25\n",
      "A-40\n",
      "Distance: 82\n"
     ]
    }
   ],
   "source": [
    "# Run\n",
    "bfs(Node('A'), Node('G'))"
   ]
  },
  {
   "cell_type": "markdown",
   "metadata": {},
   "source": [
    "<center>\n",
    "    <img src='pic/best_first_search/1.jpg'/>\n",
    "</center>"
   ]
  }
 ],
 "metadata": {
  "kernelspec": {
   "display_name": "base",
   "language": "python",
   "name": "python3"
  },
  "language_info": {
   "codemirror_mode": {
    "name": "ipython",
    "version": 3
   },
   "file_extension": ".py",
   "mimetype": "text/x-python",
   "name": "python",
   "nbconvert_exporter": "python",
   "pygments_lexer": "ipython3",
   "version": "3.11.7"
  },
  "orig_nbformat": 4
 },
 "nbformat": 4,
 "nbformat_minor": 2
}
