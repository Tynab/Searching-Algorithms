{
 "cells": [
  {
   "attachments": {},
   "cell_type": "markdown",
   "metadata": {},
   "source": [
    "# A STAR SEARCH"
   ]
  },
  {
   "attachments": {},
   "cell_type": "markdown",
   "metadata": {},
   "source": [
    "## Question"
   ]
  },
  {
   "cell_type": "markdown",
   "metadata": {},
   "source": [
    "<center>\n",
    "    <img src='pic/a_star_search/0.jpg'/>\n",
    "</center>"
   ]
  },
  {
   "attachments": {},
   "cell_type": "markdown",
   "metadata": {},
   "source": [
    "## Script"
   ]
  },
  {
   "attachments": {},
   "cell_type": "markdown",
   "metadata": {},
   "source": [
    "### Using"
   ]
  },
  {
   "cell_type": "code",
   "execution_count": 1,
   "metadata": {},
   "outputs": [],
   "source": [
    "from collections import defaultdict\n",
    "from queue import PriorityQueue"
   ]
  },
  {
   "attachments": {},
   "cell_type": "markdown",
   "metadata": {},
   "source": [
    "### Contract Fields"
   ]
  },
  {
   "cell_type": "code",
   "execution_count": 2,
   "metadata": {},
   "outputs": [],
   "source": [
    "data = defaultdict(list)\n",
    "\n",
    "data['S'] = ['A', 4, 'B', 10, 'C', 11, 7]\n",
    "data['A'] = ['B', 8, 'D', 5, 8]\n",
    "data['B'] = ['D', 15, 6]\n",
    "data['C'] = ['D', 8, 'E', 20, 'F', 2, 5]\n",
    "data['D'] = ['F', 1, 'H', 16, 'I', 20, 5]\n",
    "data['E'] = ['G', 19, 3]\n",
    "data['F'] = ['G', 13, 3]\n",
    "data['G'] = [0]\n",
    "data['H'] = ['I', 1, 'J', 2, 7]\n",
    "data['I'] = ['G', 3, 'J', 5, 'K', 13, 4]\n",
    "data['J'] = ['K', 7, 5]\n",
    "data['K'] = ['G', 16, 3]"
   ]
  },
  {
   "cell_type": "code",
   "execution_count": null,
   "metadata": {},
   "outputs": [],
   "source": [
    "class Node:\n",
    "    # Initialization\n",
    "    def __init__(self, name, p=None, g=0, h=0):\n",
    "        self.name = name\n",
    "        self.p = p\n",
    "        self.g = g\n",
    "        self.h = h\n",
    "\n",
    "\n",
    "    # Less than\n",
    "    def __lt__(self, other):\n",
    "        if other == None:\n",
    "            return False\n",
    "        return self.g + self.h < other.g + other.h\n",
    "\n",
    "\n",
    "    # Equal\n",
    "    def __eq__(self, other):\n",
    "        if other == None:\n",
    "            return False\n",
    "        return self.name == other.name\n",
    "\n",
    "\n",
    "    # Display\n",
    "    def display(self):\n",
    "        print(f'{self.name}-{self.g}-{self.h}')"
   ]
  },
  {
   "attachments": {},
   "cell_type": "markdown",
   "metadata": {},
   "source": [
    "### Contract Methods"
   ]
  },
  {
   "cell_type": "code",
   "execution_count": 4,
   "metadata": {},
   "outputs": [],
   "source": [
    "# Check in priority\n",
    "def checkin_priority(temp, c):\n",
    "    if temp == None:\n",
    "        return False\n",
    "    return (temp in c.queue)"
   ]
  },
  {
   "cell_type": "code",
   "execution_count": null,
   "metadata": {},
   "outputs": [],
   "source": [
    "# Get path\n",
    "def get_path(O, distance):\n",
    "    O.display()\n",
    "    distance += O.g + O.h\n",
    "\n",
    "    if O.p != None:\n",
    "        get_path(O.p, distance)\n",
    "    else:\n",
    "        print(f'Distance: {distance}')\n",
    "\n",
    "        return"
   ]
  },
  {
   "cell_type": "code",
   "execution_count": null,
   "metadata": {},
   "outputs": [],
   "source": [
    "# A* search\n",
    "def ass(S=Node('A'), G=Node('B')):\n",
    "    count = 0\n",
    "\n",
    "    Open = PriorityQueue()\n",
    "    Close = PriorityQueue()\n",
    "\n",
    "    S.h = data[S.name][-1]\n",
    "    Open.put(S)\n",
    "\n",
    "    while True:\n",
    "        count += 1\n",
    "\n",
    "        # check if Open is empty\n",
    "        if Open.empty():\n",
    "            print('Search failed!')\n",
    "\n",
    "            return\n",
    "\n",
    "        O = Open.get()\n",
    "        Close.put(O)\n",
    "\n",
    "        print(f'Scan {count}: {O.name}-{O.g}-{O.h}')\n",
    "\n",
    "        # check if O is destination point\n",
    "        if O.__eq__(G):\n",
    "            print('Search success!')\n",
    "\n",
    "            get_path(O, 0)\n",
    "\n",
    "            return\n",
    "\n",
    "        i = 0\n",
    "\n",
    "        # find all subpoints of O that are not in Open and Close\n",
    "        while i < len(data[O.name]) - 1:\n",
    "            name = data[O.name][i]\n",
    "            temp = Node(name=name, g=O.g + data[O.name][i + 1], h=data[name][-1])\n",
    "            temp.p = O\n",
    "\n",
    "            if not (checkin_priority(temp, Open) and checkin_priority(temp, Close)):\n",
    "                Open.put(temp)\n",
    "\n",
    "            i += 2"
   ]
  },
  {
   "cell_type": "code",
   "execution_count": 7,
   "metadata": {},
   "outputs": [
    {
     "name": "stdout",
     "output_type": "stream",
     "text": [
      "Scan 1: S-0-7\n",
      "Scan 2: A-4-8\n",
      "Scan 3: D-9-5\n",
      "Scan 4: F-10-3\n",
      "Scan 5: B-10-6\n",
      "Scan 6: C-11-5\n",
      "Scan 7: F-13-3\n",
      "Scan 8: B-12-6\n",
      "Scan 9: G-23-0\n",
      "Search success!\n",
      "G-23-0\n",
      "F-10-3\n",
      "D-9-5\n",
      "A-4-8\n",
      "S-0-7\n",
      "Distance: 69\n"
     ]
    }
   ],
   "source": [
    "# Run\n",
    "ass(Node('S'), Node('G'))"
   ]
  },
  {
   "cell_type": "markdown",
   "metadata": {},
   "source": [
    "<center>\n",
    "    <img src='pic/a_star_search/1.jpg'/>\n",
    "</center>"
   ]
  }
 ],
 "metadata": {
  "kernelspec": {
   "display_name": "Python 3",
   "language": "python",
   "name": "python3"
  },
  "language_info": {
   "codemirror_mode": {
    "name": "ipython",
    "version": 3
   },
   "file_extension": ".py",
   "mimetype": "text/x-python",
   "name": "python",
   "nbconvert_exporter": "python",
   "pygments_lexer": "ipython3",
   "version": "3.11.5"
  },
  "orig_nbformat": 4,
  "vscode": {
   "interpreter": {
    "hash": "bb31923fe1462919371239128cb0b2695295dfc560fc452d1a3a2e251a4b53eb"
   }
  }
 },
 "nbformat": 4,
 "nbformat_minor": 2
}
